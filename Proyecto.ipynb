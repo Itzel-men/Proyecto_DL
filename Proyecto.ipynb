{
  "cells": [
    {
      "cell_type": "markdown",
      "source": [
        "# Proyecto de Deep Learning: Análisis de señales de alta frecuencia en aplicaciones industriales\n",
        "\n",
        "## Viridiana Méndez, Geraldine González\n",
        "\n",
        "Este proyecto toma como base el artículo de Zhang, Zhizheng & Song, Wen & Li, Qiqiang. (2021) titulado `Dual Aspect Self-Attention based on Transformer for Remaining Useful Life Prediction`.\n",
        "\n",
        "Se realiza la réplica del paper, para después utilizar los datos de PRONOSTIA sobre rodamientos y estimar el RUL."
      ],
      "metadata": {
        "id": "Wip5gpihq9LF"
      },
      "id": "Wip5gpihq9LF"
    },
    {
      "cell_type": "markdown",
      "source": [
        "Conexión con Google Drive."
      ],
      "metadata": {
        "id": "P2UvC27KwNK8"
      },
      "id": "P2UvC27KwNK8"
    },
    {
      "cell_type": "code",
      "execution_count": null,
      "metadata": {
        "colab": {
          "base_uri": "https://localhost:8080/"
        },
        "id": "FZ9DhNU0D1Yw",
        "outputId": "a3582578-864d-40da-cf5c-4c718156ff50"
      },
      "outputs": [
        {
          "output_type": "stream",
          "name": "stdout",
          "text": [
            "Drive already mounted at /content/drive; to attempt to forcibly remount, call drive.mount(\"/content/drive\", force_remount=True).\n"
          ]
        }
      ],
      "source": [
        "from google.colab import drive\n",
        "drive.mount('/content/drive')"
      ],
      "id": "FZ9DhNU0D1Yw"
    },
    {
      "cell_type": "code",
      "execution_count": null,
      "metadata": {
        "colab": {
          "base_uri": "https://localhost:8080/"
        },
        "id": "cv5AdSviD-oR",
        "outputId": "530c3636-2a72-45b7-fdb0-b9f56fa2ee6e"
      },
      "outputs": [
        {
          "output_type": "stream",
          "name": "stdout",
          "text": [
            "/content/drive/MyDrive/DL/Proyecto\n"
          ]
        }
      ],
      "source": [
        "cd drive/MyDrive/DL/Proyecto"
      ],
      "id": "cv5AdSviD-oR"
    },
    {
      "cell_type": "markdown",
      "source": [
        "## Librerías a utilizar"
      ],
      "metadata": {
        "id": "6Ed8vH3-wSM7"
      },
      "id": "6Ed8vH3-wSM7"
    },
    {
      "cell_type": "code",
      "execution_count": null,
      "metadata": {
        "id": "39c0035b"
      },
      "outputs": [],
      "source": [
        "import pandas as pd\n",
        "import matplotlib.pyplot as plt\n",
        "import numpy as np\n",
        "from tqdm import tqdm_notebook\n",
        "\n",
        "import os\n",
        "import scipy\n",
        "from scipy.stats import entropy\n",
        "from sklearn.decomposition import PCA\n",
        "from scipy.optimize import curve_fit\n",
        "from sklearn.preprocessing import MinMaxScaler\n",
        "from sklearn import linear_model\n",
        "\n",
        "from DAST_Network import *\n",
        "from DAST_utils import *\n",
        "\n",
        "import scipy.io as sio\n",
        "import time\n",
        "\n",
        "from torch import nn, optim\n",
        "from torch.autograd import Variable\n",
        "\n",
        "import h5py\n",
        "import fnmatch\n",
        "import csv\n",
        "\n",
        "from sklearn import preprocessing\n",
        "from sklearn.metrics import mean_squared_error, r2_score, mean_absolute_error\n",
        "from sklearn.model_selection import GridSearchCV"
      ],
      "id": "39c0035b"
    },
    {
      "cell_type": "markdown",
      "metadata": {
        "id": "e1356982"
      },
      "source": [
        "# Réplica de los resultados del artículo con los datos de motores tipo TURBOFAN\n",
        "\n",
        "Primero se realiza la réplica del paper en el que se utilizan datos C-MAPSS referentes a motores tipo TURBOFAN. El procesamiento de los datos realizó ejecutando los archivos .py proporcionados en el  [GitHub](https://github.com/Zzzsdu/DAST) oficial del artículo."
      ],
      "id": "e1356982"
    },
    {
      "cell_type": "code",
      "execution_count": null,
      "metadata": {
        "id": "71b3fb50"
      },
      "outputs": [],
      "source": [
        "RUL_F001 = np.loadtxt('CMAPSSData/RUL_FD001.txt')\n",
        "train_F001 = np.loadtxt('CMAPSSData/train_FD001.txt')\n",
        "test_F001 = np.loadtxt('CMAPSSData/test_FD001.txt')"
      ],
      "id": "71b3fb50"
    },
    {
      "cell_type": "markdown",
      "metadata": {
        "id": "89624ffd"
      },
      "source": [
        "## Características estadísticas\n",
        "\n",
        "En esta parte se ejecutan algunas líneas se explora un poco el procedimiento que siguen para realizar la extracción de características estadísticas.\n",
        "\n",
        "Las características extraidas son coeficientes de regresión y el promedio sobre la dimensión del sensor. Las siguientes funciones fueron tomadas del archivo `Statistical features process .py` encontrado en el GitHub."
      ],
      "id": "89624ffd"
    },
    {
      "cell_type": "code",
      "execution_count": null,
      "metadata": {
        "id": "0dfbe461"
      },
      "outputs": [],
      "source": [
        "regr = linear_model.LinearRegression()  # feature of linear coefficient\n",
        "\n",
        "def fea_extract1(data):  # feature 1\n",
        "    fea = []\n",
        "    x = np.array(range(data.shape[0]))\n",
        "    for i in range(data.shape[1]):\n",
        "        regr.fit(x.reshape(-1, 1), np.ravel(data[:, i]))\n",
        "        fea = fea + list(regr.coef_)\n",
        "    return fea\n",
        "\n",
        "def fea_extract2(data):  # feature 2\n",
        "    fea = []\n",
        "    for i in range(data.shape[1]):\n",
        "        fea.append(np.mean(data[:, i]))\n",
        "    return fea"
      ],
      "id": "0dfbe461"
    },
    {
      "cell_type": "code",
      "execution_count": null,
      "metadata": {
        "id": "311a64ad"
      },
      "outputs": [],
      "source": [
        "trainX = sio.loadmat('F001_window_size_trainX.mat')  #upload sliding time window processed data\n",
        "trainX = trainX['train1X']\n",
        "testX =  sio.loadmat('F001_window_size_testX.mat')  #upload sliding time window processed data\n",
        "testX = testX['test1X']\n",
        "trainX_fea1 = []\n",
        "testX_fea1 = []\n",
        "trainX_fea2 = []\n",
        "testX_fea2 = []\n",
        "window_size = 40"
      ],
      "id": "311a64ad"
    },
    {
      "cell_type": "code",
      "execution_count": null,
      "metadata": {
        "id": "0d514685",
        "outputId": "930a0341-c995-4cc7-b37e-a8de091f27cc"
      },
      "outputs": [
        {
          "name": "stdout",
          "output_type": "stream",
          "text": [
            "(40,)\n",
            "(40, 1)\n",
            "[0.00011359]\n"
          ]
        }
      ],
      "source": [
        "x = np.array(range(data_temp.shape[0]))\n",
        "data_temp = trainX[0]\n",
        "print(np.ravel(data_temp[:, 0]).shape)\n",
        "print(x.reshape(-1, 1).shape)\n",
        "regr.fit(x.reshape(-1, 1), np.ravel(data_temp[:, 0]))\n",
        "print(regr.coef_)\n"
      ],
      "id": "0d514685"
    },
    {
      "cell_type": "markdown",
      "source": [
        "Gráfica de la regresión obtenida.\n"
      ],
      "metadata": {
        "id": "SrmR4OqE2_Eu"
      },
      "id": "SrmR4OqE2_Eu"
    },
    {
      "cell_type": "code",
      "execution_count": null,
      "metadata": {
        "id": "00025bd1",
        "outputId": "6e8c4544-3454-47f6-c14f-f4bc5ae324f6"
      },
      "outputs": [
        {
          "data": {
            "image/png": "[encoded data removed]",
            "text/plain": [
              "<Figure size 640x480 with 1 Axes>"
            ]
          },
          "metadata": {},
          "output_type": "display_data"
        }
      ],
      "source": [
        "# Plot outputs\n",
        "plt.scatter(x.reshape(-1, 1), data_temp[:, 0], color=\"black\")\n",
        "plt.plot(x.reshape(-1, 1),regr.predict(x.reshape(-1, 1)), color=\"blue\", linewidth=3)\n",
        "plt.show()"
      ],
      "id": "00025bd1"
    },
    {
      "cell_type": "markdown",
      "source": [
        "En las siguientes líneas se agregan las características a los datos ya procesados obteniendo ventanas temporales de tamaño 40."
      ],
      "metadata": {
        "id": "6dO5QAH13H6c"
      },
      "id": "6dO5QAH13H6c"
    },
    {
      "cell_type": "code",
      "execution_count": null,
      "metadata": {
        "id": "3e89f331",
        "outputId": "7bdd6faf-55c5-4f4e-8155-f943dab78b37"
      },
      "outputs": [
        {
          "name": "stdout",
          "output_type": "stream",
          "text": [
            "16731\n"
          ]
        }
      ],
      "source": [
        "for i in range(len(trainX)):\n",
        "    data_temp = trainX[i]\n",
        "    trainX_fea1.append(fea_extract1(data_temp))\n",
        "    trainX_fea2.append(fea_extract2(data_temp))\n",
        "\n",
        "print(len(trainX_fea1))"
      ],
      "id": "3e89f331"
    },
    {
      "cell_type": "code",
      "execution_count": null,
      "metadata": {
        "id": "d9a011d5",
        "outputId": "e8387fef-1987-4f0c-b684-127db4a8f411"
      },
      "outputs": [
        {
          "data": {
            "text/plain": [
              "(16731, 14)"
            ]
          },
          "execution_count": 169,
          "metadata": {},
          "output_type": "execute_result"
        }
      ],
      "source": [
        "np.array(trainX_fea1).shape"
      ],
      "id": "d9a011d5"
    },
    {
      "cell_type": "code",
      "execution_count": null,
      "metadata": {
        "id": "d20a40e9"
      },
      "outputs": [],
      "source": [
        "trainX_new = []\n",
        "testX_new = []\n",
        "Feasize = 14#window_size\n",
        "\n",
        "for i in range(len(trainX)):\n",
        "    data_temp0 = trainX[i]\n",
        "    data_temp1 = np.reshape(trainX_fea1[i], [1, Feasize, 1])  # regr.coef_\n",
        "    data_temp2 = np.reshape(trainX_fea2[i], [1, Feasize, 1])  # mean_value\n",
        "    print(data_temp0.shape)\n",
        "    print(data_temp1.shape)\n",
        "    print(data_temp2.shape)\n",
        "    data_temp = np.vstack((data_temp0, data_temp1[0].T, data_temp2[0].T))\n",
        "    trainX_new.append(data_temp)\n",
        "trainX_new = np.array(trainX_new)"
      ],
      "id": "d20a40e9"
    },
    {
      "cell_type": "code",
      "execution_count": null,
      "metadata": {
        "id": "e461c19f",
        "outputId": "7032a7f5-c013-4f4c-c1e9-38c7f6446c28"
      },
      "outputs": [
        {
          "data": {
            "text/plain": [
              "(16731, 42, 14)"
            ]
          },
          "execution_count": 173,
          "metadata": {},
          "output_type": "execute_result"
        }
      ],
      "source": [
        "trainX_new.shape"
      ],
      "id": "e461c19f"
    },
    {
      "cell_type": "markdown",
      "metadata": {
        "id": "c07b83d1"
      },
      "source": [
        "Después de realizar el pre-procesamiento de los datos, se cargan los archivos obtenidos."
      ],
      "id": "c07b83d1"
    },
    {
      "cell_type": "code",
      "execution_count": null,
      "metadata": {
        "id": "8e9e8e85"
      },
      "outputs": [],
      "source": [
        "trainX_= sio.loadmat('F001_window_size_trainX.mat')  #upload sliding time window processed data\n",
        "testX_ = sio.loadmat('F001_window_size_testX.mat')"
      ],
      "id": "8e9e8e85"
    },
    {
      "cell_type": "code",
      "execution_count": null,
      "metadata": {
        "id": "c091d132"
      },
      "outputs": [],
      "source": [
        "#trainX_new= sio.loadmat('F001_window_size_trainX_new.mat')  #upload sliding time window processed data\n",
        "testX_new = sio.loadmat('F001_window_size_testX_new.mat')"
      ],
      "id": "c091d132"
    },
    {
      "cell_type": "code",
      "execution_count": null,
      "metadata": {
        "id": "bff30778"
      },
      "outputs": [],
      "source": [
        "#trainY_new= sio.loadmat('F001_window_size_trainY.mat')  #upload sliding time window processed data\n",
        "testY_new = sio.loadmat('F001_window_size_testY.mat')"
      ],
      "id": "bff30778"
    },
    {
      "cell_type": "markdown",
      "metadata": {
        "id": "50ef150b"
      },
      "source": [
        "Durante el preprocesamiento los datos se guardan en archivos .mat los cuales están definidos como diccionarios, a continuación se extraen los datos de las claves correspondientes."
      ],
      "id": "50ef150b"
    },
    {
      "cell_type": "code",
      "execution_count": null,
      "metadata": {
        "id": "55ffb4f3"
      },
      "outputs": [],
      "source": [
        "#trainY_new = trainY_new['train1Y']\n",
        "testY_new = testY_new['test1Y']"
      ],
      "id": "55ffb4f3"
    },
    {
      "cell_type": "code",
      "execution_count": null,
      "metadata": {
        "id": "1fbfdcfc"
      },
      "outputs": [],
      "source": [
        "#trainX_new = trainX_new['train1X_new']\n",
        "testX_new = testX_new['test1X_new']"
      ],
      "id": "1fbfdcfc"
    },
    {
      "cell_type": "code",
      "execution_count": null,
      "metadata": {
        "id": "9ac4c2d8",
        "outputId": "4a830466-c05d-4713-850d-862967c8b246"
      },
      "outputs": [
        {
          "name": "stdout",
          "output_type": "stream",
          "text": [
            "(16731, 42, 14) (100, 42, 14)\n"
          ]
        }
      ],
      "source": [
        "print(trainX_new.shape, testX_new.shape)"
      ],
      "id": "9ac4c2d8"
    },
    {
      "cell_type": "code",
      "execution_count": null,
      "metadata": {
        "id": "af82bdc0",
        "outputId": "43baf5c7-6d85-4656-ca47-fc6ed21e6289"
      },
      "outputs": [
        {
          "data": {
            "text/plain": [
              "(1, 16731)"
            ]
          },
          "execution_count": 54,
          "metadata": {},
          "output_type": "execute_result"
        }
      ],
      "source": [
        "trainY_new.shape"
      ],
      "id": "af82bdc0"
    },
    {
      "cell_type": "markdown",
      "source": [
        "Los datos de entrenamiento y prueba así como sus etiquetas se convierten en tensores usando torch."
      ],
      "metadata": {
        "id": "W7Am3PCX3mZM"
      },
      "id": "W7Am3PCX3mZM"
    },
    {
      "cell_type": "code",
      "execution_count": null,
      "metadata": {
        "id": "1ec0850d"
      },
      "outputs": [],
      "source": [
        "trainX_new_ = torch.from_numpy(trainX_new)\n",
        "trainY_new_ = torch.from_numpy(trainY_new.T)"
      ],
      "id": "1ec0850d"
    },
    {
      "cell_type": "code",
      "execution_count": null,
      "metadata": {
        "id": "9ddd46bc",
        "outputId": "09ea9b77-aaaf-46c6-b3bc-dca971f12034"
      },
      "outputs": [
        {
          "data": {
            "text/plain": [
              "torch.Size([16731, 1])"
            ]
          },
          "execution_count": 59,
          "metadata": {},
          "output_type": "execute_result"
        }
      ],
      "source": [
        "trainY_new_.size()"
      ],
      "id": "9ddd46bc"
    },
    {
      "cell_type": "code",
      "execution_count": null,
      "metadata": {
        "id": "1b7766d9"
      },
      "outputs": [],
      "source": [
        "testX_new_ = torch.from_numpy(testX_new)\n",
        "testY_new_ = torch.from_numpy(testY_new.T)"
      ],
      "id": "1b7766d9"
    },
    {
      "cell_type": "markdown",
      "source": [
        "Posteriormente se convierte a Variable de torch y se construye el Tensor Dataset de prueba y de entrenamiento."
      ],
      "metadata": {
        "id": "Buc6IHHE32ts"
      },
      "id": "Buc6IHHE32ts"
    },
    {
      "cell_type": "code",
      "source": [
        "X_train = Variable(torch.Tensor(trainX_new).float())\n",
        "Y_train = Variable(torch.Tensor(trainY_new.T).float())"
      ],
      "metadata": {
        "id": "XoK3J9EC-OyP"
      },
      "id": "XoK3J9EC-OyP",
      "execution_count": null,
      "outputs": []
    },
    {
      "cell_type": "code",
      "execution_count": null,
      "metadata": {
        "id": "3f4fc633"
      },
      "outputs": [],
      "source": [
        "X_test = Variable(torch.Tensor(testX_new).float())\n",
        "Y_test = Variable(torch.Tensor(testY_new.T).float())"
      ],
      "id": "3f4fc633"
    },
    {
      "cell_type": "code",
      "execution_count": null,
      "metadata": {
        "id": "c6720d95"
      },
      "outputs": [],
      "source": [
        "#train_dataset = torch.utils.data.TensorDataset(X_train, Y_train)\n",
        "test_dataset = torch.utils.data.TensorDataset(X_test, Y_test)"
      ],
      "id": "c6720d95"
    },
    {
      "cell_type": "markdown",
      "source": [
        "Se utiliza un tamaño de batch de 256, un learning rate de 1e-2 y 100 épocas, esto hiperparámetros fueron proporcionados en el paper."
      ],
      "metadata": {
        "id": "YLqOHrTu4Nhd"
      },
      "id": "YLqOHrTu4Nhd"
    },
    {
      "cell_type": "code",
      "execution_count": null,
      "metadata": {
        "id": "69d8f436"
      },
      "outputs": [],
      "source": [
        "#Inicializamos los parámetros\n",
        "batch_size = 256\n",
        "lr = 1e-2\n",
        "n_epochs = 10"
      ],
      "id": "69d8f436"
    },
    {
      "cell_type": "markdown",
      "metadata": {
        "id": "f8128a08"
      },
      "source": [
        "Se crean los DataLoader de entrenamiento y de prueba."
      ],
      "id": "f8128a08"
    },
    {
      "cell_type": "code",
      "execution_count": null,
      "metadata": {
        "id": "0b9be380"
      },
      "outputs": [],
      "source": [
        "args={}\n",
        "kwargs={}\n",
        "\n",
        "args['batch_size'] = batch_size\n",
        "args['test_batch_size'] = batch_size\n",
        "\n",
        "#train_loader = torch.utils.data.DataLoader(train_dataset,\n",
        "#                                           batch_size = args['batch_size'],\n",
        "#                                           shuffle=True)\n",
        "\n",
        "test_loader = torch.utils.data.DataLoader(test_dataset,\n",
        "                                          batch_size = args['test_batch_size'],\n",
        "                                          shuffle=True)"
      ],
      "id": "0b9be380"
    },
    {
      "cell_type": "code",
      "execution_count": null,
      "metadata": {
        "id": "b4ac536e",
        "outputId": "74b32593-5ff8-43a5-a710-da536a14d1ee"
      },
      "outputs": [
        {
          "data": {
            "text/plain": [
              "66"
            ]
          },
          "execution_count": 55,
          "metadata": {},
          "output_type": "execute_result"
        }
      ],
      "source": [
        "len(train_loader)"
      ],
      "id": "b4ac536e"
    },
    {
      "cell_type": "markdown",
      "source": [
        "Aunque se hará uso de cpu se realiza la asignación de device."
      ],
      "metadata": {
        "id": "rKQQ6p1V5OaI"
      },
      "id": "rKQQ6p1V5OaI"
    },
    {
      "cell_type": "code",
      "execution_count": null,
      "metadata": {
        "id": "91ca8c30"
      },
      "outputs": [],
      "source": [
        "device = 'cpu' #if torch.cuda.is_available() else 'cpu'\n",
        "\n",
        "n_cudas = torch.cuda.device_count()\n",
        "for i in range(n_cudas):\n",
        "    print(torch.cuda.get_device_name(i))"
      ],
      "id": "91ca8c30"
    },
    {
      "cell_type": "markdown",
      "source": [
        "Los siguientes hiperparámetros algunos son proporcionados en el artículo y otros fueron encontrados en el GitHub del artículo."
      ],
      "metadata": {
        "id": "mFmDfOKQ5ZVU"
      },
      "id": "mFmDfOKQ5ZVU"
    },
    {
      "cell_type": "code",
      "execution_count": null,
      "metadata": {
        "id": "b793aa1e"
      },
      "outputs": [],
      "source": [
        "dim_val_s= 64\n",
        "dim_attn_s= 64\n",
        "\n",
        "dim_val_t = 64\n",
        "dim_attn_t = 64\n",
        "\n",
        "dim_val = 64\n",
        "dim_attn = 64\n",
        "\n",
        "time_step= 42\n",
        "input_size = 14#batch_size\n",
        "\n",
        "dec_seq_len = 4\n",
        "out_seq_len = 1\n",
        "\n",
        "n_encoder_layers = 2\n",
        "n_decoder_layers = 1\n",
        "\n",
        "dropout = 0.2\n",
        "n_heads = 4\n",
        "\n",
        "max_rul = 125"
      ],
      "id": "b793aa1e"
    },
    {
      "cell_type": "markdown",
      "source": [
        "Se prosigue a realizar el entrenamiento del modelo."
      ],
      "metadata": {
        "id": "9GYqtqVH6QiQ"
      },
      "id": "9GYqtqVH6QiQ"
    },
    {
      "cell_type": "code",
      "source": [
        "#Modelo DAST\n",
        "model = DAST(dim_val_s=dim_val_s, dim_attn_s= dim_attn_s, dim_val_t=dim_val_t, dim_attn_t=dim_attn_t,\n",
        "             dim_val = dim_val, dim_attn= dim_attn, time_step = time_step, input_size = input_size,dec_seq_len=dec_seq_len,\n",
        "             out_seq_len=out_seq_len, n_decoder_layers=n_decoder_layers, n_encoder_layers=n_encoder_layers,\n",
        "             n_heads=n_heads, dropout=dropout).to(device)\n",
        "\n",
        "optimizer = optim.Adam(model.parameters(), lr=lr)\n",
        "criterion = nn.MSELoss()"
      ],
      "metadata": {
        "colab": {
          "base_uri": "https://localhost:8080/"
        },
        "id": "2jesAgmY-gsn",
        "outputId": "99998a81-84c0-4178-eb4f-c0b043653718"
      },
      "id": "2jesAgmY-gsn",
      "execution_count": null,
      "outputs": [
        {
          "output_type": "stream",
          "name": "stdout",
          "text": [
            "64\n"
          ]
        }
      ]
    },
    {
      "cell_type": "code",
      "execution_count": null,
      "metadata": {
        "id": "510bc6c0",
        "outputId": "716325d8-acac-4449-f1e1-409b2694bff9"
      },
      "outputs": [
        {
          "name": "stdout",
          "output_type": "stream",
          "text": [
            "64\n",
            "Época [1/10], Loss: 24.7183\n",
            "Época [2/10], Loss: 14.2533\n",
            "Época [3/10], Loss: 15.6994\n",
            "Época [4/10], Loss: 12.8754\n",
            "Época [5/10], Loss: 13.5759\n",
            "Época [6/10], Loss: 13.0638\n",
            "Época [7/10], Loss: 13.5798\n",
            "Época [8/10], Loss: 12.7906\n",
            "Época [9/10], Loss: 12.7659\n",
            "Época [10/10], Loss: 12.5017\n"
          ]
        }
      ],
      "source": [
        "losses = []\n",
        "val_losses = []\n",
        "\n",
        "loss_values = []\n",
        "val_losses = []\n",
        "\n",
        "# Training loop\n",
        "for epoch in range(n_epochs):\n",
        "    # Uses loader to fetch one mini-batch for training\n",
        "    train_loss = 0.\n",
        "    model.train()\n",
        "    for x_batch, y_batch in train_loader:\n",
        "        optimizer.zero_grad()\n",
        "        x_batch = x_batch.float().to(device)\n",
        "        y_batch = y_batch.float().to(device)\n",
        "        yhat = model(x_batch)\n",
        "\n",
        "        #loss_fn.requires_grad = True\n",
        "        loss_ = torch.sqrt(criterion(yhat*max_rul,y_batch*max_rul))\n",
        "        loss_.backward()\n",
        "        optimizer.step()\n",
        "\n",
        "        train_loss += loss_.item()\n",
        "\n",
        "    losses = train_loss/len(train_loader)\n",
        "    loss_values.append(losses)\n",
        "    print(f'Época [{epoch+1}/{n_epochs}], Loss: {losses:.4f}')"
      ],
      "id": "510bc6c0"
    },
    {
      "cell_type": "markdown",
      "source": [
        "# Modelo pre-entrenado\n",
        "\n",
        "En el Github del artículo se encuentra el modelo"
      ],
      "metadata": {
        "id": "QDRaKdsL7L4J"
      },
      "id": "QDRaKdsL7L4J"
    },
    {
      "cell_type": "code",
      "execution_count": null,
      "metadata": {
        "id": "0bbacf0d"
      },
      "outputs": [],
      "source": [
        "model = torch.load('F001_DAST_prediciton_model_11.40')"
      ],
      "id": "0bbacf0d"
    },
    {
      "cell_type": "code",
      "execution_count": null,
      "metadata": {
        "id": "2be3ca69"
      },
      "outputs": [],
      "source": [
        "def myScore(Target, Pred):\n",
        "    tmp1 = 0\n",
        "    tmp2 = 0\n",
        "    for i in range(len(Target)):\n",
        "        if Target[i] > Pred[i]:\n",
        "            tmp1 = tmp1 + math.exp((-Pred[i] + Target[i]) / 13.0) - 1\n",
        "        else:\n",
        "            tmp2 = tmp2 + math.exp((Pred[i] - Target[i]) / 10.0) - 1\n",
        "    tmp = tmp1 + tmp2\n",
        "    return tmp"
      ],
      "id": "2be3ca69"
    },
    {
      "cell_type": "code",
      "execution_count": null,
      "metadata": {
        "id": "334106b6",
        "outputId": "9ddb42b6-4dda-42b4-8b7a-13a3bad342c0",
        "colab": {
          "base_uri": "https://localhost:8080/"
        }
      },
      "outputs": [
        {
          "output_type": "stream",
          "name": "stdout",
          "text": [
            "test_loss =  55.56287384033203 test_score =  219524.69737032268\n"
          ]
        }
      ],
      "source": [
        "Y_test_numpy = Y_test.detach().numpy()\n",
        "test_list = []\n",
        "\n",
        "for k ,(batch_x,batch_y) in enumerate(test_loader):\n",
        "    prediction = model(batch_x)\n",
        "    prediction[prediction<0] = 0\n",
        "    test_list.append(prediction)\n",
        "\n",
        "test_all =  torch.cat(test_list).detach().numpy()\n",
        "test_all_tensor = torch.from_numpy(test_all)\n",
        "test_loss = torch.sqrt(criterion(test_all_tensor*125, Y_test*125))\n",
        "test_score = myScore(Y_test_numpy*125, test_all*125)\n",
        "print('test_loss = ', test_loss.item(),\n",
        "          'test_score = ', test_score)"
      ],
      "id": "334106b6"
    },
    {
      "cell_type": "code",
      "execution_count": null,
      "metadata": {
        "id": "31bf4aa5",
        "outputId": "a51e3a6e-6f7e-4093-a8ce-45a35886a277",
        "colab": {
          "base_uri": "https://localhost:8080/"
        }
      },
      "outputs": [
        {
          "output_type": "execute_result",
          "data": {
            "text/plain": [
              "[tensor([[0.2566],\n",
              "         [0.8466],\n",
              "         [0.2575],\n",
              "         [0.8179],\n",
              "         [0.1810],\n",
              "         [0.7712],\n",
              "         [0.1220],\n",
              "         [0.4748],\n",
              "         [0.8230],\n",
              "         [0.5519],\n",
              "         [0.0285],\n",
              "         [0.7631],\n",
              "         [0.4442],\n",
              "         [0.1689],\n",
              "         [0.7197],\n",
              "         [0.7733],\n",
              "         [0.7917],\n",
              "         [0.1778],\n",
              "         [0.8385],\n",
              "         [0.1108],\n",
              "         [0.1757],\n",
              "         [0.4766],\n",
              "         [0.9280],\n",
              "         [0.7180],\n",
              "         [0.7622],\n",
              "         [0.9101],\n",
              "         [0.7064],\n",
              "         [0.4380],\n",
              "         [0.6421],\n",
              "         [0.9709],\n",
              "         [0.4746],\n",
              "         [0.4205],\n",
              "         [0.7527],\n",
              "         [0.9093],\n",
              "         [0.9344],\n",
              "         [0.8673],\n",
              "         [0.7470],\n",
              "         [0.2845],\n",
              "         [0.7031],\n",
              "         [0.1170],\n",
              "         [0.8018],\n",
              "         [0.2193],\n",
              "         [0.9434],\n",
              "         [0.9383],\n",
              "         [0.4451],\n",
              "         [0.8588],\n",
              "         [0.0909],\n",
              "         [0.8390],\n",
              "         [0.2001],\n",
              "         [0.6639],\n",
              "         [0.5527],\n",
              "         [0.6946],\n",
              "         [0.9710],\n",
              "         [0.6380],\n",
              "         [0.8647],\n",
              "         [0.0631],\n",
              "         [0.6575],\n",
              "         [0.9123],\n",
              "         [0.3908],\n",
              "         [0.1031],\n",
              "         [0.7751],\n",
              "         [0.4051],\n",
              "         [0.7678],\n",
              "         [0.8890],\n",
              "         [0.6383],\n",
              "         [0.8809],\n",
              "         [0.8989],\n",
              "         [0.9144],\n",
              "         [0.9572],\n",
              "         [0.9064],\n",
              "         [0.2414],\n",
              "         [0.2136],\n",
              "         [0.2035],\n",
              "         [0.0882],\n",
              "         [0.8869],\n",
              "         [0.3526],\n",
              "         [0.9506],\n",
              "         [0.7741],\n",
              "         [0.0921],\n",
              "         [0.9532],\n",
              "         [0.2121],\n",
              "         [0.1029],\n",
              "         [0.9079],\n",
              "         [0.9632],\n",
              "         [0.3516],\n",
              "         [0.8509],\n",
              "         [1.0081],\n",
              "         [0.0928],\n",
              "         [0.4089],\n",
              "         [0.8196],\n",
              "         [0.1980],\n",
              "         [0.8734],\n",
              "         [0.9337],\n",
              "         [0.1920],\n",
              "         [0.2525],\n",
              "         [0.1704],\n",
              "         [0.9533],\n",
              "         [0.7948],\n",
              "         [0.9714],\n",
              "         [0.7209]], grad_fn=<IndexPutBackward0>)]"
            ]
          },
          "metadata": {},
          "execution_count": 39
        }
      ],
      "source": [
        "test_list"
      ],
      "id": "31bf4aa5"
    },
    {
      "cell_type": "code",
      "execution_count": null,
      "metadata": {
        "id": "d5e65998"
      },
      "outputs": [],
      "source": [
        "correct = 0\n",
        "total = 0\n",
        "with torch.no_grad():\n",
        "  # Uses loader to fetch one mini-batch for validation\n",
        "  #labels_ = []\n",
        "  predicted_ = []\n",
        "  count = 0\n",
        "  for x_batch, y_batch in test_loader:\n",
        "    #model.eval()\n",
        "    # Makes predictions\n",
        "    yhat = model(x_batch)\n",
        "    yhat[yhat<0] = 0\n",
        "    predicted_.append(yhat)\n",
        "    #print(y_batch,predicted)\n",
        "    #labels_.append(labels)\n",
        "    count = count + 1"
      ],
      "id": "d5e65998"
    },
    {
      "cell_type": "code",
      "execution_count": null,
      "metadata": {
        "id": "b3af316d",
        "outputId": "6d16c47a-85bf-4e71-a73a-f60ec1201416",
        "colab": {
          "base_uri": "https://localhost:8080/"
        }
      },
      "outputs": [
        {
          "output_type": "execute_result",
          "data": {
            "text/plain": [
              "[tensor([[0.9123],\n",
              "         [0.8385],\n",
              "         [0.6380],\n",
              "         [0.0631],\n",
              "         [0.1980],\n",
              "         [0.1170],\n",
              "         [0.9144],\n",
              "         [0.8647],\n",
              "         [0.2566],\n",
              "         [0.8509],\n",
              "         [0.9280],\n",
              "         [0.7917],\n",
              "         [0.4748],\n",
              "         [0.9434],\n",
              "         [0.7527],\n",
              "         [0.9532],\n",
              "         [0.4089],\n",
              "         [0.8890],\n",
              "         [0.3908],\n",
              "         [0.7064],\n",
              "         [0.2575],\n",
              "         [0.4746],\n",
              "         [0.9632],\n",
              "         [1.0081],\n",
              "         [0.9337],\n",
              "         [0.2001],\n",
              "         [0.9714],\n",
              "         [0.4451],\n",
              "         [0.1689],\n",
              "         [0.9709],\n",
              "         [0.9344],\n",
              "         [0.2414],\n",
              "         [0.8179],\n",
              "         [0.9710],\n",
              "         [0.4766],\n",
              "         [0.9383],\n",
              "         [0.1108],\n",
              "         [0.2136],\n",
              "         [0.1778],\n",
              "         [0.4205],\n",
              "         [0.7209],\n",
              "         [0.6383],\n",
              "         [0.1757],\n",
              "         [0.9079],\n",
              "         [0.7733],\n",
              "         [0.1029],\n",
              "         [0.7197],\n",
              "         [0.7712],\n",
              "         [0.9064],\n",
              "         [0.7948],\n",
              "         [0.7622],\n",
              "         [0.2035],\n",
              "         [0.8018],\n",
              "         [0.6946],\n",
              "         [0.7678],\n",
              "         [0.9572],\n",
              "         [0.8588],\n",
              "         [0.0909],\n",
              "         [0.2845],\n",
              "         [0.2193],\n",
              "         [0.7031],\n",
              "         [0.5519],\n",
              "         [0.9533],\n",
              "         [0.4442],\n",
              "         [0.1810],\n",
              "         [0.4051],\n",
              "         [0.7751],\n",
              "         [0.8869],\n",
              "         [0.3526],\n",
              "         [0.9093],\n",
              "         [0.0928],\n",
              "         [0.4380],\n",
              "         [0.0285],\n",
              "         [0.0921],\n",
              "         [0.6639],\n",
              "         [0.2121],\n",
              "         [0.3516],\n",
              "         [0.9101],\n",
              "         [0.8466],\n",
              "         [0.6575],\n",
              "         [0.7741],\n",
              "         [0.6421],\n",
              "         [0.8809],\n",
              "         [0.8230],\n",
              "         [0.1920],\n",
              "         [0.7631],\n",
              "         [0.7470],\n",
              "         [0.8989],\n",
              "         [0.8196],\n",
              "         [0.5527],\n",
              "         [0.8390],\n",
              "         [0.2525],\n",
              "         [0.1704],\n",
              "         [0.8734],\n",
              "         [0.9506],\n",
              "         [0.8673],\n",
              "         [0.0882],\n",
              "         [0.7180],\n",
              "         [0.1031],\n",
              "         [0.1220]])]"
            ]
          },
          "metadata": {},
          "execution_count": 42
        }
      ],
      "source": [
        "predicted_"
      ],
      "id": "b3af316d"
    },
    {
      "cell_type": "code",
      "source": [
        "testY_new[0]"
      ],
      "metadata": {
        "colab": {
          "base_uri": "https://localhost:8080/"
        },
        "id": "6aP0HejBNKCf",
        "outputId": "01ee3580-e13a-4d72-97cf-6203ac096b21"
      },
      "id": "6aP0HejBNKCf",
      "execution_count": null,
      "outputs": [
        {
          "output_type": "execute_result",
          "data": {
            "text/plain": [
              "array([0.896, 0.784, 0.552, 0.656, 0.728, 0.744, 0.728, 0.76 , 0.888,\n",
              "       0.768, 0.776, 0.992, 0.76 , 0.856, 0.664, 0.672, 0.4  , 0.224,\n",
              "       0.696, 0.128, 0.456, 0.888, 0.904, 0.16 , 1.   , 0.952, 0.528,\n",
              "       0.776, 0.72 , 0.92 , 0.064, 0.384, 0.848, 0.056, 0.088, 0.152,\n",
              "       0.168, 0.4  , 1.   , 0.224, 0.144, 0.08 , 0.472, 0.872, 0.912,\n",
              "       0.376, 1.   , 0.736, 0.168, 0.632, 0.912, 0.232, 0.208, 0.776,\n",
              "       1.   , 0.12 , 0.824, 0.296, 0.912, 0.8  , 0.168, 0.432, 0.576,\n",
              "       0.224, 1.   , 0.112, 0.616, 0.064, 0.968, 0.752, 0.944, 0.4  ,\n",
              "       1.   , 1.   , 0.904, 0.08 , 0.272, 0.856, 0.504, 0.72 , 0.064,\n",
              "       0.072, 1.   , 0.464, 0.944, 0.712, 0.928, 0.92 , 1.   , 0.224,\n",
              "       0.304, 0.16 , 0.68 , 0.44 , 1.   , 1.   , 0.656, 0.472, 0.936,\n",
              "       0.16 ])"
            ]
          },
          "metadata": {},
          "execution_count": 55
        }
      ]
    },
    {
      "cell_type": "code",
      "source": [
        "pred"
      ],
      "metadata": {
        "colab": {
          "base_uri": "https://localhost:8080/"
        },
        "id": "WGRCPA0XB0Mo",
        "outputId": "eb72655b-8bbf-41a9-82e7-fc63803cc8ff"
      },
      "id": "WGRCPA0XB0Mo",
      "execution_count": null,
      "outputs": [
        {
          "output_type": "execute_result",
          "data": {
            "text/plain": [
              "array([[0.91234946],\n",
              "       [0.83847755],\n",
              "       [0.6379597 ],\n",
              "       [0.06314805],\n",
              "       [0.19798473],\n",
              "       [0.11697643],\n",
              "       [0.9144005 ],\n",
              "       [0.8646675 ],\n",
              "       [0.25664935],\n",
              "       [0.85086083],\n",
              "       [0.9280095 ],\n",
              "       [0.79168713],\n",
              "       [0.4747782 ],\n",
              "       [0.9433573 ],\n",
              "       [0.7526704 ],\n",
              "       [0.9531605 ],\n",
              "       [0.4089137 ],\n",
              "       [0.8889519 ],\n",
              "       [0.39076802],\n",
              "       [0.706375  ],\n",
              "       [0.25753954],\n",
              "       [0.4745997 ],\n",
              "       [0.96320367],\n",
              "       [1.0081084 ],\n",
              "       [0.93370837],\n",
              "       [0.20008051],\n",
              "       [0.9714495 ],\n",
              "       [0.44509202],\n",
              "       [0.16890545],\n",
              "       [0.9708916 ],\n",
              "       [0.93437165],\n",
              "       [0.24137595],\n",
              "       [0.81791115],\n",
              "       [0.9710214 ],\n",
              "       [0.47661892],\n",
              "       [0.9383242 ],\n",
              "       [0.11084563],\n",
              "       [0.21355405],\n",
              "       [0.17784625],\n",
              "       [0.4205385 ],\n",
              "       [0.7208595 ],\n",
              "       [0.63827837],\n",
              "       [0.17565995],\n",
              "       [0.90786403],\n",
              "       [0.7733314 ],\n",
              "       [0.10286601],\n",
              "       [0.71971536],\n",
              "       [0.771198  ],\n",
              "       [0.90642554],\n",
              "       [0.79481006],\n",
              "       [0.7622471 ],\n",
              "       [0.20347309],\n",
              "       [0.8018472 ],\n",
              "       [0.69461006],\n",
              "       [0.76778793],\n",
              "       [0.95721006],\n",
              "       [0.8587672 ],\n",
              "       [0.09090671],\n",
              "       [0.28445706],\n",
              "       [0.21930155],\n",
              "       [0.7031306 ],\n",
              "       [0.5518982 ],\n",
              "       [0.9533111 ],\n",
              "       [0.44421878],\n",
              "       [0.18099822],\n",
              "       [0.40506044],\n",
              "       [0.77508616],\n",
              "       [0.88694584],\n",
              "       [0.35255077],\n",
              "       [0.9093416 ],\n",
              "       [0.0928234 ],\n",
              "       [0.43804926],\n",
              "       [0.02850943],\n",
              "       [0.09207505],\n",
              "       [0.6638865 ],\n",
              "       [0.21214443],\n",
              "       [0.35155874],\n",
              "       [0.91014266],\n",
              "       [0.84659576],\n",
              "       [0.6575123 ],\n",
              "       [0.7740814 ],\n",
              "       [0.64210963],\n",
              "       [0.88089085],\n",
              "       [0.8229681 ],\n",
              "       [0.19202515],\n",
              "       [0.76307714],\n",
              "       [0.7470372 ],\n",
              "       [0.8989497 ],\n",
              "       [0.81959224],\n",
              "       [0.5526633 ],\n",
              "       [0.83900243],\n",
              "       [0.25246108],\n",
              "       [0.17038587],\n",
              "       [0.8734189 ],\n",
              "       [0.9506012 ],\n",
              "       [0.86734676],\n",
              "       [0.08820409],\n",
              "       [0.7179751 ],\n",
              "       [0.10309055],\n",
              "       [0.12201498]], dtype=float32)"
            ]
          },
          "metadata": {},
          "execution_count": 78
        }
      ]
    },
    {
      "cell_type": "code",
      "source": [
        "pred = predicted_[0].detach().numpy()\n",
        "pred.shape"
      ],
      "metadata": {
        "colab": {
          "base_uri": "https://localhost:8080/"
        },
        "id": "W8nNGXkMEsfM",
        "outputId": "2eb71a18-f30e-4e81-c67b-a45eec83e54a"
      },
      "id": "W8nNGXkMEsfM",
      "execution_count": null,
      "outputs": [
        {
          "output_type": "execute_result",
          "data": {
            "text/plain": [
              "(100, 1)"
            ]
          },
          "metadata": {},
          "execution_count": 67
        }
      ]
    },
    {
      "cell_type": "code",
      "source": [
        "plt.plot(pred*125)\n",
        "plt.plot()"
      ],
      "metadata": {
        "colab": {
          "base_uri": "https://localhost:8080/",
          "height": 447
        },
        "id": "Py7aoxi9Ex-C",
        "outputId": "c58a6565-2300-4676-e1b3-88e5269b1724"
      },
      "id": "Py7aoxi9Ex-C",
      "execution_count": null,
      "outputs": [
        {
          "output_type": "execute_result",
          "data": {
            "text/plain": [
              "[<matplotlib.lines.Line2D at 0x7fcbd8790220>]"
            ]
          },
          "metadata": {},
          "execution_count": 51
        },
        {
          "output_type": "display_data",
          "data": {
            "text/plain": [
              "<Figure size 640x480 with 1 Axes>"
            ],
            "image/png": "[encoded data removed]"
          },
          "metadata": {}
        }
      ]
    },
    {
      "cell_type": "markdown",
      "metadata": {
        "id": "e55d91da"
      },
      "source": [
        "# Procedimiento con Bearings\n",
        "\n",
        "El primer paso es unir todos los archivos:"
      ],
      "id": "e55d91da"
    },
    {
      "cell_type": "code",
      "execution_count": null,
      "metadata": {
        "id": "57d658c5"
      },
      "outputs": [],
      "source": [
        "#Folder train set\n",
        "folder1_1 = \"FEMTOBearingDataSet/Learning_set/Bearing1_1/\"\n",
        "folder2_1 = \"FEMTOBearingDataSet/Learning_set/Bearing2_1/\"\n",
        "folder3_1 = \"FEMTOBearingDataSet/Learning_set/Bearing3_1/\"\n",
        "folder1_2 = \"FEMTOBearingDataSet/Learning_set/Bearing1_2/\"\n",
        "folder2_2 = \"FEMTOBearingDataSet/Learning_set/Bearing2_2/\"\n",
        "folder3_2 = \"FEMTOBearingDataSet/Learning_set/Bearing3_2/\""
      ],
      "id": "57d658c5"
    },
    {
      "cell_type": "code",
      "execution_count": null,
      "metadata": {
        "id": "51e86e89"
      },
      "outputs": [],
      "source": [
        "#Folder test set\n",
        "folder1_3 = \"FEMTOBearingDataSet/Test_set/Bearing1_3/\"\n",
        "folder1_4 = \"FEMTOBearingDataSet/Test_set/Bearing1_4/\"\n",
        "folder1_5 = \"FEMTOBearingDataSet/Test_set/Bearing1_5/\"\n",
        "folder1_6 = \"FEMTOBearingDataSet/Test_set/Bearing1_6/\"\n",
        "folder1_7 = \"FEMTOBearingDataSet/Test_set/Bearing1_7/\""
      ],
      "id": "51e86e89"
    },
    {
      "cell_type": "code",
      "execution_count": null,
      "metadata": {
        "id": "e461c5e2"
      },
      "outputs": [],
      "source": [
        "def unir(folder):\n",
        "    #Archivos del primer conjunto de datos\n",
        "    files_1st = os.listdir(folder)\n",
        "    df = pd.read_csv(folder+ files_1st[0], header=None)\n",
        "    for f in files_1st:\n",
        "        if fnmatch.fnmatch(f, f\"acc*.csv\"):\n",
        "            df1 = pd.read_csv(folder+ f, header=None)\n",
        "            df = np.append(df,df1.values,0)\n",
        "    return df"
      ],
      "id": "e461c5e2"
    },
    {
      "cell_type": "code",
      "execution_count": null,
      "metadata": {
        "id": "a7d898fe"
      },
      "outputs": [],
      "source": [
        "bearing1_1 = unir(folder1_1)"
      ],
      "id": "a7d898fe"
    },
    {
      "cell_type": "code",
      "execution_count": null,
      "metadata": {
        "id": "1a4fdbfd",
        "outputId": "5416f515-2f68-438d-b5ec-8497d8920752"
      },
      "outputs": [
        {
          "data": {
            "text/plain": [
              "(7178240, 6)"
            ]
          },
          "execution_count": 8,
          "metadata": {},
          "output_type": "execute_result"
        }
      ],
      "source": [
        "bearing1_1.shape"
      ],
      "id": "1a4fdbfd"
    },
    {
      "cell_type": "code",
      "execution_count": null,
      "metadata": {
        "id": "c60593b9",
        "outputId": "b0254bf3-be0c-437a-90e5-b75d886b77cc"
      },
      "outputs": [
        {
          "data": {
            "image/png": "[encoded data removed]",
            "text/plain": [
              "<Figure size 640x480 with 1 Axes>"
            ]
          },
          "metadata": {},
          "output_type": "display_data"
        }
      ],
      "source": [
        "plt.plot(bearing1_1[:,4])\n",
        "plt.show()"
      ],
      "id": "c60593b9"
    },
    {
      "cell_type": "code",
      "execution_count": null,
      "metadata": {
        "id": "4d2beb4b"
      },
      "outputs": [],
      "source": [
        "bearing2_1 = unir(folder2_1)\n",
        "bearing3_1 = unir(folder3_1)"
      ],
      "id": "4d2beb4b"
    },
    {
      "cell_type": "code",
      "execution_count": null,
      "metadata": {
        "id": "67fd802c"
      },
      "outputs": [],
      "source": [
        "bearing1_2 = unir(folder1_2)"
      ],
      "id": "67fd802c"
    },
    {
      "cell_type": "code",
      "execution_count": null,
      "metadata": {
        "id": "cf5f1f19",
        "outputId": "030210bf-2a99-4ec2-9e11-541386de6e98"
      },
      "outputs": [
        {
          "data": {
            "text/plain": [
              "7178240"
            ]
          },
          "execution_count": 27,
          "metadata": {},
          "output_type": "execute_result"
        }
      ],
      "source": [
        "bearing1_1.shape[0]"
      ],
      "id": "cf5f1f19"
    },
    {
      "cell_type": "code",
      "execution_count": null,
      "metadata": {
        "id": "aa9ae96d"
      },
      "outputs": [],
      "source": [
        "sio.savemat('bearing1_1.mat', {\"bearing1_1\": bearing1_1})\n",
        "sio.savemat('bearing2_1.mat', {\"bearing2_1\": bearing2_1})\n",
        "sio.savemat('bearing3_1.mat', {\"bearing3_1\": bearing3_1})\n",
        "sio.savemat('bearing1_2.mat', {\"bearing1_2\": bearing1_2})"
      ],
      "id": "aa9ae96d"
    },
    {
      "cell_type": "code",
      "execution_count": null,
      "metadata": {
        "id": "088230cd"
      },
      "outputs": [],
      "source": [
        "#Unir test\n",
        "bearing1_3 = unir(folder1_3)\n",
        "bearing1_4 = unir(folder1_4)\n",
        "bearing1_5 = unir(folder1_5)\n",
        "bearing1_6 = unir(folder1_6)\n",
        "bearing1_7 = unir(folder1_7)"
      ],
      "id": "088230cd"
    },
    {
      "cell_type": "code",
      "execution_count": null,
      "metadata": {
        "id": "8a93b806"
      },
      "outputs": [],
      "source": [
        "sio.savemat('bearing1_3.mat', {\"bearing1_3\": bearing1_3})\n",
        "sio.savemat('bearing1_4.mat', {\"bearing1_4\": bearing1_4})\n",
        "sio.savemat('bearing1_5.mat', {\"bearing1_5\": bearing1_5})\n",
        "sio.savemat('bearing1_6.mat', {\"bearing1_6\": bearing1_6})\n",
        "sio.savemat('bearing1_7.mat', {\"bearing1_7\": bearing1_7})"
      ],
      "id": "8a93b806"
    },
    {
      "cell_type": "code",
      "execution_count": null,
      "metadata": {
        "id": "889b4af8"
      },
      "outputs": [],
      "source": [
        "bearing1_1 = sio.loadmat('bearing1_1.mat')  #upload sliding time window processed data\n",
        "bearing1_1 = bearing1_1['bearing1_1']\n",
        "bearing1_2 = sio.loadmat('bearing1_2.mat')  #upload sliding time window processed data\n",
        "bearing1_2 = bearing1_2['bearing1_2']\n",
        "bearing1_3 = sio.loadmat('bearing1_3.mat')  #upload sliding time window processed data\n",
        "bearing1_3 = bearing1_3['bearing1_3']\n",
        "bearing1_4 = sio.loadmat('bearing1_4.mat')  #upload sliding time window processed data\n",
        "bearing1_4 = bearing1_4['bearing1_4']\n",
        "bearing1_5 = sio.loadmat('bearing1_5.mat')  #upload sliding time window processed data\n",
        "bearing1_5 = bearing1_5['bearing1_5']\n",
        "bearing1_6 = sio.loadmat('bearing1_6.mat')  #upload sliding time window processed data\n",
        "bearing1_6 = bearing1_6['bearing1_6']\n",
        "bearing1_7 = sio.loadmat('bearing1_7.mat')  #upload sliding time window processed data\n",
        "bearing1_7 = bearing1_7['bearing1_7']\n"
      ],
      "id": "889b4af8"
    },
    {
      "cell_type": "code",
      "execution_count": null,
      "metadata": {
        "colab": {
          "base_uri": "https://localhost:8080/"
        },
        "id": "T8VRQqOKbg8A",
        "outputId": "ae00436a-d198-4a36-bed6-bc17c0734562"
      },
      "outputs": [
        {
          "data": {
            "text/plain": [
              "(7178240, 6)"
            ]
          },
          "execution_count": 27,
          "metadata": {},
          "output_type": "execute_result"
        }
      ],
      "source": [
        "bearing1_1.shape"
      ],
      "id": "T8VRQqOKbg8A"
    },
    {
      "cell_type": "markdown",
      "metadata": {
        "id": "e8abdfdf"
      },
      "source": [
        "Para crear las etiquetas del RUL se considera el FTP para cada Bearing, los cuales están dados por, que es el tiempo en segundos hasta que empieza a modificarse el estado del rodamiento."
      ],
      "id": "e8abdfdf"
    },
    {
      "cell_type": "code",
      "execution_count": null,
      "metadata": {
        "id": "158f4c18"
      },
      "outputs": [],
      "source": [
        "FTPB_1 = 11420\n",
        "FTPB_2 = 8220\n",
        "FTPB_3 = 9600\n",
        "FTPB_4 = 101180\n",
        "FTPB_5 = 24070\n",
        "FTPB_6 = 16270\n",
        "FTPB_7 = 22040"
      ],
      "id": "158f4c18"
    },
    {
      "cell_type": "code",
      "execution_count": null,
      "metadata": {
        "id": "d01af3ed"
      },
      "outputs": [],
      "source": [
        "def Y_rul(FTP, len_):\n",
        "    seg = len_/256 #Total de segundos\n",
        "    rul = np.ones(len_) # RUL con 1's\n",
        "    len1 = len_*FTP/seg #Saber el indice a partir del cual se modifica el estado del rodamiento\n",
        "    x = np.arange(len1,len_)\n",
        "    rul_=1/(len1-len_)*x-len_/(len1-len_)\n",
        "\n",
        "    rul[int(len1):]=rul_\n",
        "\n",
        "    return rul"
      ],
      "id": "d01af3ed"
    },
    {
      "cell_type": "code",
      "execution_count": null,
      "metadata": {
        "id": "09b91f4f"
      },
      "outputs": [],
      "source": [
        "Y_bearing1 = Y_rul(FTPB_1,bearing1_1.shape[0])\n",
        "Y_bearing2 = Y_rul(FTPB_2,bearing1_2.shape[0])\n",
        "Y_bearing3 = Y_rul(FTPB_3,bearing1_3.shape[0])\n",
        "Y_bearing4 = Y_rul(FTPB_3,bearing1_3.shape[0])\n",
        "Y_bearing5 = Y_rul(FTPB_5,bearing1_5.shape[0])\n",
        "Y_bearing6 = Y_rul(FTPB_6,bearing1_6.shape[0])\n",
        "Y_bearing7 = Y_rul(FTPB_7,bearing1_7.shape[0])"
      ],
      "id": "09b91f4f"
    },
    {
      "cell_type": "code",
      "execution_count": null,
      "metadata": {
        "id": "85f0fcc0",
        "outputId": "9d56e508-bc28-494e-ec8f-933c033cc6c0"
      },
      "outputs": [
        {
          "data": {
            "image/png": "[encoded data removed]",
            "text/plain": [
              "<Figure size 640x480 with 1 Axes>"
            ]
          },
          "metadata": {},
          "output_type": "display_data"
        }
      ],
      "source": [
        "plt.plot(Y_bearing1)\n",
        "\n",
        "plt.show()"
      ],
      "id": "85f0fcc0"
    },
    {
      "cell_type": "markdown",
      "metadata": {
        "id": "be82909f"
      },
      "source": [
        "## Preprocesamiento de los datos\n",
        "\n",
        "Primero se crea normalizan los datos y se crean las ventanas deslizantes.\n"
      ],
      "id": "be82909f"
    },
    {
      "cell_type": "code",
      "execution_count": null,
      "metadata": {
        "id": "20f07b2e"
      },
      "outputs": [],
      "source": [
        "def get_data(files,label_rul, window_Size = 90):\n",
        "    # The scaler objects will be stored in this dictionary so that our output test data from the model can be re-scaled during evaluation\n",
        "    sc = MinMaxScaler()\n",
        "    data = sc.fit_transform(files)\n",
        "\n",
        "    trainX = []\n",
        "    trainY = []\n",
        "\n",
        "    data_temp = data\n",
        "    for j in range(len(data_temp) - window_Size + 1):\n",
        "        trainX.append(data_temp[j:j + window_Size,:].tolist())\n",
        "        trainY.append(label_rul[j])\n",
        "\n",
        "    return np.array(trainX), np.array(trainY)"
      ],
      "id": "20f07b2e"
    },
    {
      "cell_type": "code",
      "execution_count": null,
      "metadata": {
        "id": "e303fb53"
      },
      "outputs": [],
      "source": [
        "X_train1_2, Y_train1_2 = get_data(bearing1_2[:,4:6], Y_bearing2, window_Size= 30)"
      ],
      "id": "e303fb53"
    },
    {
      "cell_type": "code",
      "execution_count": null,
      "metadata": {
        "id": "ZM4hKGreEu2T"
      },
      "outputs": [],
      "source": [
        "X_train1_1, Y_train1_1 = get_data(bearing1_1[:,4:6], Y_bearing1, window_Size= 30)"
      ],
      "id": "ZM4hKGreEu2T"
    },
    {
      "cell_type": "code",
      "execution_count": null,
      "metadata": {
        "id": "f487e2f2"
      },
      "outputs": [],
      "source": [
        "sio.savemat('Xtrain_bearing1_2.mat', {\"Xtrain_bearing1_2\": X_train1_2})\n",
        "sio.savemat('Ytrain_bearing1_2.mat', {\"Ytrain_bearing1_2\": Y_train1_2})"
      ],
      "id": "f487e2f2"
    },
    {
      "cell_type": "code",
      "execution_count": null,
      "metadata": {
        "id": "fja4c8d8Gi5n"
      },
      "outputs": [],
      "source": [
        "sio.savemat('Xtrain_bearing1_1.mat', {\"Xtrain_bearing1_1\": X_train1_1})\n",
        "sio.savemat('Ytrain_bearing1_1.mat', {\"Ytrain_bearing1_1\": Y_train1_1})"
      ],
      "id": "fja4c8d8Gi5n"
    },
    {
      "cell_type": "markdown",
      "metadata": {
        "id": "nmEbPXgodKBR"
      },
      "source": [
        "Datos para test"
      ],
      "id": "nmEbPXgodKBR"
    },
    {
      "cell_type": "code",
      "execution_count": null,
      "metadata": {
        "id": "XOA00BSKdISs"
      },
      "outputs": [],
      "source": [
        "X_test1_3, Y_test1_3 = get_data(bearing1_3[:,4:6], Y_bearing3, window_Size= 30)\n",
        "X_test1_4, Y_test1_4 = get_data(bearing1_4[:,4:6], Y_bearing4, window_Size= 30)\n",
        "X_test1_5, Y_test1_5 = get_data(bearing1_5[:,4:6], Y_bearing5, window_Size= 30)\n",
        "X_test1_6, Y_test1_6 = get_data(bearing1_6[:,4:6], Y_bearing6, window_Size= 30)\n",
        "X_test1_7, Y_test1_7 = get_data(bearing1_7[:,4:6], Y_bearing7, window_Size= 30)"
      ],
      "id": "XOA00BSKdISs"
    },
    {
      "cell_type": "code",
      "execution_count": null,
      "metadata": {
        "id": "wZV35C2heSKC"
      },
      "outputs": [],
      "source": [
        "sio.savemat('Xtest_bearing1_3.mat', {\"Xtest_bearing1_3\": X_test1_3})\n",
        "sio.savemat('Ytest_bearing1_3.mat', {\"Ytest_bearing1_3\": Y_test1_3})\n",
        "sio.savemat('Xtest_bearing1_4.mat', {\"Xtest_bearing1_4\": X_test1_4})\n",
        "sio.savemat('Ytest_bearing1_4.mat', {\"Ytest_bearing1_4\": Y_test1_4})\n",
        "sio.savemat('Xtest_bearing1_5.mat', {\"Xtest_bearing1_5\": X_test1_5})\n",
        "sio.savemat('Ytest_bearing1_5.mat', {\"Ytest_bearing1_5\": Y_test1_5})\n",
        "sio.savemat('Xtest_bearing1_6.mat', {\"Xtest_bearing1_6\": X_test1_6})\n",
        "sio.savemat('Ytest_bearing1_6.mat', {\"Ytest_bearing1_6\": Y_test1_6})\n",
        "sio.savemat('Xtest_bearing1_7.mat', {\"Xtest_bearing1_7\": X_test1_7})\n",
        "sio.savemat('Ytest_bearing1_7.mat', {\"Ytest_bearing1_7\": Y_test1_7})"
      ],
      "id": "wZV35C2heSKC"
    },
    {
      "cell_type": "markdown",
      "metadata": {
        "id": "2wSv93VdcUaB"
      },
      "source": [
        "Se prosigue con la extracción de características estadísticas."
      ],
      "id": "2wSv93VdcUaB"
    },
    {
      "cell_type": "code",
      "execution_count": null,
      "metadata": {
        "id": "xwNVJ9lLcYIA"
      },
      "outputs": [],
      "source": [
        "regr = linear_model.LinearRegression()  # feature of linear coefficient\n",
        "\n",
        "def fea_extract1(data):  # feature 1\n",
        "    fea = []\n",
        "    x = np.array(range(data.shape[0]))\n",
        "    for i in range(data.shape[1]):\n",
        "        regr.fit(x.reshape(-1, 1), np.ravel(data[:, i]))\n",
        "        fea = fea + list(regr.coef_)\n",
        "    return fea\n",
        "\n",
        "def fea_extract2(data):  # feature 2\n",
        "    fea = []\n",
        "    for i in range(data.shape[1]):\n",
        "        fea.append(np.mean(data[:, i]))\n",
        "    return fea"
      ],
      "id": "xwNVJ9lLcYIA"
    },
    {
      "cell_type": "code",
      "execution_count": null,
      "metadata": {
        "id": "7jYbVGvBdAxW"
      },
      "outputs": [],
      "source": [
        "def feat_st(trainX):\n",
        "    trainX_fea1 = []\n",
        "    testX_fea1 = []\n",
        "    trainX_fea2 = []\n",
        "    testX_fea2 = []\n",
        "    window_size = 30\n",
        "\n",
        "    for i in range(len(trainX)):\n",
        "        data_temp = trainX[i]\n",
        "        trainX_fea1.append(fea_extract1(data_temp))\n",
        "        trainX_fea2.append(fea_extract2(data_temp))\n",
        "\n",
        "    scale1 = MinMaxScaler().fit(trainX_fea1)#归一化\n",
        "    trainX_fea1 = scale1.transform(trainX_fea1)\n",
        "\n",
        "    trainX_new = []\n",
        "    testX_new = []\n",
        "    Feasize = 2 #window_size\n",
        "\n",
        "    for i in range(len(trainX)):\n",
        "        data_temp0 = trainX[i]\n",
        "        data_temp1 = np.reshape(trainX_fea1[i], [1, Feasize, 1])  # regr.coef_\n",
        "        data_temp2 = np.reshape(trainX_fea2[i], [1, Feasize, 1])  # mean_value\n",
        "        data_temp = np.vstack((data_temp0, data_temp1[0].T, data_temp2[0].T))\n",
        "        trainX_new.append(data_temp)\n",
        "    trainX_new = np.array(trainX_new)\n",
        "\n",
        "    return trainX_new"
      ],
      "id": "7jYbVGvBdAxW"
    },
    {
      "cell_type": "code",
      "execution_count": null,
      "metadata": {
        "id": "Y3PfZNw9d5fr"
      },
      "outputs": [],
      "source": [
        "trainX1_2 = sio.loadmat('Xtrain_bearing1_2.mat')  #upload sliding time window processed data\n",
        "trainX1_2 = trainX1_2['Xtrain_bearing1_2']"
      ],
      "id": "Y3PfZNw9d5fr"
    },
    {
      "cell_type": "code",
      "execution_count": null,
      "metadata": {
        "id": "LE1xIiiOeTES"
      },
      "outputs": [],
      "source": [
        "trainX1_2_new = feat_st(trainX1_2)"
      ],
      "id": "LE1xIiiOeTES"
    },
    {
      "cell_type": "code",
      "execution_count": null,
      "metadata": {
        "colab": {
          "base_uri": "https://localhost:8080/"
        },
        "id": "7uss7Z_6723X",
        "outputId": "b9069b9f-4ea3-4e1c-8e6d-432de1bb22ad"
      },
      "outputs": [
        {
          "data": {
            "text/plain": [
              "(3, 32, 2)"
            ]
          },
          "execution_count": 15,
          "metadata": {},
          "output_type": "execute_result"
        }
      ],
      "source": [
        "trainX1_2_new.shape"
      ],
      "id": "7uss7Z_6723X"
    },
    {
      "cell_type": "code",
      "execution_count": null,
      "metadata": {
        "id": "VwfNoTnIunh2"
      },
      "outputs": [],
      "source": [
        "sio.savemat('Xtrain_new_bearing1_2.mat', {\"trainX1_2_new\": trainX1_2_new})"
      ],
      "id": "VwfNoTnIunh2"
    },
    {
      "cell_type": "code",
      "execution_count": null,
      "metadata": {
        "id": "mISs8YqY_TDt"
      },
      "outputs": [],
      "source": [
        "trainX1_1 = sio.loadmat('Xtrain_bearing1_1.mat')  #upload sliding time window processed data\n",
        "trainX1_1 = trainX1_1['Xtrain_bearing1_1']"
      ],
      "id": "mISs8YqY_TDt"
    },
    {
      "cell_type": "code",
      "execution_count": null,
      "metadata": {
        "id": "j4ntfpMA_OQB"
      },
      "outputs": [],
      "source": [
        "trainX1_1_new = feat_st(trainX1_1)"
      ],
      "id": "j4ntfpMA_OQB"
    },
    {
      "cell_type": "code",
      "execution_count": null,
      "metadata": {
        "id": "WBv6VRHLW4ks"
      },
      "outputs": [],
      "source": [
        "sio.savemat('Xtrain_new_bearing1_1.mat', {\"trainX1_1_new\": trainX1_1_new})"
      ],
      "id": "WBv6VRHLW4ks"
    },
    {
      "cell_type": "code",
      "execution_count": null,
      "metadata": {
        "id": "uoowP8u0KvMy"
      },
      "outputs": [],
      "source": [
        "testX1_3 = sio.loadmat('Xtest_bearing1_3.mat')  #upload sliding time window processed data\n",
        "testX1_3 = testX1_3['Xtest_bearing1_3']\n",
        "testX1_4 = sio.loadmat('Xtest_bearing1_4.mat')  #upload sliding time window processed data\n",
        "testX1_4 = testX1_4['Xtest_bearing1_4']\n",
        "testX1_5 = sio.loadmat('Xtest_bearing1_5.mat')  #upload sliding time window processed data\n",
        "testX1_5 = testX1_5['Xtest_bearing1_5']\n",
        "testX1_6 = sio.loadmat('Xtest_bearing1_6.mat')  #upload sliding time window processed data\n",
        "testX1_6 = testX1_6['Xtest_bearing1_6']\n",
        "testX1_7 = sio.loadmat('Xtest_bearing1_7.mat')  #upload sliding time window processed data\n",
        "testX1_7 = testX1_7['Xtest_bearing1_7']"
      ],
      "id": "uoowP8u0KvMy"
    },
    {
      "cell_type": "code",
      "source": [
        "testX1_7.shape"
      ],
      "metadata": {
        "colab": {
          "base_uri": "https://localhost:8080/"
        },
        "id": "BHLTEGTgZvwB",
        "outputId": "6de74a11-8745-4319-87a2-8a491dca00ec"
      },
      "id": "BHLTEGTgZvwB",
      "execution_count": null,
      "outputs": [
        {
          "output_type": "execute_result",
          "data": {
            "text/plain": [
              "(3847651, 30, 2)"
            ]
          },
          "metadata": {},
          "execution_count": 27
        }
      ]
    },
    {
      "cell_type": "code",
      "execution_count": null,
      "metadata": {
        "id": "6euIUjzFLvOg"
      },
      "outputs": [],
      "source": [
        "#testX1_3_new = feat_st(testX1_3)\n",
        "sio.savemat('Xtest_new_bearing1_3.mat', {\"testX1_3_new\": testX1_3_new})\n",
        "testX1_4_new = feat_st(testX1_4)\n",
        "sio.savemat('Xtest_new_bearing1_4.mat', {\"testX1_4_new\": testX1_4_new})\n",
        "testX1_5_new = feat_st(testX1_5)\n",
        "sio.savemat('Xtest_new_bearing1_5.mat', {\"testX1_5_new\": testX1_5_new})\n",
        "testX1_6_new = feat_st(testX1_6)\n",
        "sio.savemat('Xtest_new_bearing1_6.mat', {\"testX1_6_new\": testX1_6_new})\n",
        "testX1_7_new = feat_st(testX1_7)\n",
        "sio.savemat('Xtest_new_bearing1_7.mat', {\"testX1_7_new\": testX1_7_new})"
      ],
      "id": "6euIUjzFLvOg"
    },
    {
      "cell_type": "code",
      "source": [
        "testX1_4_new = feat_st(testX1_4)\n",
        "sio.savemat('Xtest_new_bearing1_4.mat', {\"testX1_4_new\": testX1_4_new})"
      ],
      "metadata": {
        "id": "filcJYywacCA"
      },
      "id": "filcJYywacCA",
      "execution_count": null,
      "outputs": []
    },
    {
      "cell_type": "markdown",
      "metadata": {
        "id": "yO6cTCm6rLHL"
      },
      "source": [
        "# Entrenamiento"
      ],
      "id": "yO6cTCm6rLHL"
    },
    {
      "cell_type": "code",
      "execution_count": null,
      "metadata": {
        "colab": {
          "base_uri": "https://localhost:8080/"
        },
        "id": "DuGQvq3TralI",
        "outputId": "7acf4752-f201-47f3-9bf7-45417b0a732e"
      },
      "outputs": [
        {
          "output_type": "stream",
          "name": "stdout",
          "text": [
            " B1_DAST_prediciton_model           mi_array.h5                         Xtrain_bearing1_6.mat\n",
            " bearing1_1.mat                     Proyecto.ipynb                      Xtrain_bearing1_7.mat\n",
            " bearing1_2.mat                     Proyecto_main.py                    Xtrain_new_bearing1_1.mat\n",
            " bearing1_3.mat                     \u001b[0m\u001b[01;34m__pycache__\u001b[0m/                        Xtrain_new_bearing11.mat\n",
            " bearing1_4.mat                    'Statistical features process .py'   Xtrain_new_bearing1_2.mat\n",
            " bearing1_5.mat                     trainX1_2_new.h5                    Ytest_bearing1_3.mat\n",
            " bearing1_6.mat                     Xtest_bearing1_3.mat                Ytest_bearing1_4.mat\n",
            " bearing1_7.mat                     Xtest_bearing1_4.mat                Ytest_bearing1_5.mat\n",
            " bearing2_1.mat                     Xtest_bearing1_5.mat                Ytest_bearing1_6.mat\n",
            " bearing3_1.mat                     Xtest_bearing1_6.mat                Ytest_bearing1_7.mat\n",
            " DAST_main.py                       Xtest_bearing1_7.mat                Ytrain_bearing1_1.mat\n",
            " DAST_Network.py                    Xtest_new_bearing1_3.mat            Ytrain_bearing1_2.mat\n",
            " DAST_utils.py                      Xtrain_bearing1_1.mat               Ytrain_bearing1_3.mat\n",
            " F001_DAST_prediciton_model_11.40   Xtrain_bearing1_2.mat               Ytrain_bearing1_4.mat\n",
            " F001_DAST_prediciton_model_11.42   Xtrain_bearing1_3.mat               Ytrain_bearing1_5.mat\n",
            " F001_window_size_testX_new.mat     Xtrain_bearing1_4.mat               Ytrain_bearing1_6.mat\n",
            " F001_window_size_testY.mat         Xtrain_bearing1_5.mat               Ytrain_bearing1_7.mat\n"
          ]
        }
      ],
      "source": [
        "ls"
      ],
      "id": "DuGQvq3TralI"
    },
    {
      "cell_type": "code",
      "execution_count": null,
      "metadata": {
        "id": "ciSHIFyArI1Q"
      },
      "outputs": [],
      "source": [
        "trainX1_1_new = sio.loadmat('Xtrain_new_bearing1_1.mat')  #upload sliding time window processed data\n",
        "trainX1_1_new = trainX1_1_new['trainX1_1_new']"
      ],
      "id": "ciSHIFyArI1Q"
    },
    {
      "cell_type": "code",
      "execution_count": null,
      "metadata": {
        "id": "mDjkJDS9tDL0"
      },
      "outputs": [],
      "source": [
        "trainY1_2_new = sio.loadmat('Ytrain_bearing1_2.mat')\n",
        "trainY1_2_new = trainY1_2_new['Ytrain_bearing1_2']\n",
        "trainY1_1_new = sio.loadmat('Ytrain_bearing1_1.mat')\n",
        "trainY1_1_new = trainY1_1_new['Ytrain_bearing1_1']"
      ],
      "id": "mDjkJDS9tDL0"
    },
    {
      "cell_type": "code",
      "execution_count": null,
      "metadata": {
        "id": "4q4mWDUtrrGQ"
      },
      "outputs": [],
      "source": [
        "trainX_ = np.concatenate((trainX1_1_new, trainX1_2_new), axis=0)"
      ],
      "id": "4q4mWDUtrrGQ"
    },
    {
      "cell_type": "code",
      "execution_count": null,
      "metadata": {
        "colab": {
          "base_uri": "https://localhost:8080/"
        },
        "id": "X_haq7oAtr0k",
        "outputId": "187aac58-ecbd-40ef-9c66-cff7adc5288f"
      },
      "outputs": [
        {
          "data": {
            "text/plain": [
              "(1, 7178211)"
            ]
          },
          "execution_count": 16,
          "metadata": {},
          "output_type": "execute_result"
        }
      ],
      "source": [
        "trainY1_1_new.shape"
      ],
      "id": "X_haq7oAtr0k"
    },
    {
      "cell_type": "code",
      "execution_count": null,
      "metadata": {
        "id": "3vZswdrWtfcK"
      },
      "outputs": [],
      "source": [
        "trainY_ = np.concatenate((trainY1_1_new, trainY1_2_new), axis=1)"
      ],
      "id": "3vZswdrWtfcK"
    },
    {
      "cell_type": "code",
      "execution_count": null,
      "metadata": {
        "colab": {
          "base_uri": "https://localhost:8080/"
        },
        "id": "VCKOXgnVt8cW",
        "outputId": "3d927b9b-a0d6-4538-de06-a7c006cb58d2"
      },
      "outputs": [
        {
          "data": {
            "text/plain": [
              "(1, 9410502)"
            ]
          },
          "execution_count": 23,
          "metadata": {},
          "output_type": "execute_result"
        }
      ],
      "source": [
        "trainY_.shape"
      ],
      "id": "VCKOXgnVt8cW"
    },
    {
      "cell_type": "code",
      "execution_count": null,
      "metadata": {
        "id": "uBQdmW4GuWXW"
      },
      "outputs": [],
      "source": [
        "X_train = Variable(torch.Tensor(trainX_).float())\n",
        "Y_train = Variable(torch.Tensor(trainY_.T).float())"
      ],
      "id": "uBQdmW4GuWXW"
    },
    {
      "cell_type": "code",
      "execution_count": null,
      "metadata": {
        "id": "pfGURxdzukjY"
      },
      "outputs": [],
      "source": [
        "train_dataset = torch.utils.data.TensorDataset(X_train, Y_train)"
      ],
      "id": "pfGURxdzukjY"
    },
    {
      "cell_type": "code",
      "execution_count": null,
      "metadata": {
        "id": "nOPsAA8fuyJo"
      },
      "outputs": [],
      "source": [
        "batch_size = 256\n",
        "lr = 1e-2\n",
        "n_epochs = 3"
      ],
      "id": "nOPsAA8fuyJo"
    },
    {
      "cell_type": "code",
      "execution_count": null,
      "metadata": {
        "id": "f7yE-WJJu6kI",
        "colab": {
          "base_uri": "https://localhost:8080/",
          "height": 245
        },
        "outputId": "a50bdb1b-7647-4e3c-816e-8ef040751077"
      },
      "outputs": [
        {
          "output_type": "error",
          "ename": "NameError",
          "evalue": "ignored",
          "traceback": [
            "\u001b[0;31m---------------------------------------------------------------------------\u001b[0m",
            "\u001b[0;31mNameError\u001b[0m                                 Traceback (most recent call last)",
            "\u001b[0;32m<ipython-input-5-f5ba333e4540>\u001b[0m in \u001b[0;36m<cell line: 7>\u001b[0;34m()\u001b[0m\n\u001b[1;32m      5\u001b[0m \u001b[0margs\u001b[0m\u001b[0;34m[\u001b[0m\u001b[0;34m'test_batch_size'\u001b[0m\u001b[0;34m]\u001b[0m \u001b[0;34m=\u001b[0m \u001b[0mbatch_size\u001b[0m\u001b[0;34m\u001b[0m\u001b[0;34m\u001b[0m\u001b[0m\n\u001b[1;32m      6\u001b[0m \u001b[0;34m\u001b[0m\u001b[0m\n\u001b[0;32m----> 7\u001b[0;31m train_loader = torch.utils.data.DataLoader(train_dataset,\n\u001b[0m\u001b[1;32m      8\u001b[0m                                            \u001b[0mbatch_size\u001b[0m \u001b[0;34m=\u001b[0m \u001b[0margs\u001b[0m\u001b[0;34m[\u001b[0m\u001b[0;34m'batch_size'\u001b[0m\u001b[0;34m]\u001b[0m\u001b[0;34m,\u001b[0m\u001b[0;34m\u001b[0m\u001b[0;34m\u001b[0m\u001b[0m\n\u001b[1;32m      9\u001b[0m                                            shuffle=True)\n",
            "\u001b[0;31mNameError\u001b[0m: name 'train_dataset' is not defined"
          ]
        }
      ],
      "source": [
        "args={}\n",
        "kwargs={}\n",
        "\n",
        "args['batch_size'] = batch_size\n",
        "args['test_batch_size'] = batch_size\n",
        "\n",
        "train_loader = torch.utils.data.DataLoader(train_dataset,\n",
        "                                           batch_size = args['batch_size'],\n",
        "                                           shuffle=True)"
      ],
      "id": "f7yE-WJJu6kI"
    },
    {
      "cell_type": "code",
      "execution_count": null,
      "metadata": {
        "colab": {
          "base_uri": "https://localhost:8080/"
        },
        "id": "msZtVlPVvIHD",
        "outputId": "6bac54c1-ffad-4753-eacd-41d5a73439bc"
      },
      "outputs": [
        {
          "name": "stdout",
          "output_type": "stream",
          "text": [
            "Tesla T4\n"
          ]
        }
      ],
      "source": [
        "device = 'cpu' #if torch.cuda.is_available() else 'cpu'\n",
        "\n",
        "n_cudas = torch.cuda.device_count()\n",
        "for i in range(n_cudas):\n",
        "    print(torch.cuda.get_device_name(i))"
      ],
      "id": "msZtVlPVvIHD"
    },
    {
      "cell_type": "code",
      "execution_count": null,
      "metadata": {
        "colab": {
          "base_uri": "https://localhost:8080/"
        },
        "id": "2BceLgq-ZM0r",
        "outputId": "6acc843d-1f1e-4816-9a6a-111ab2aa8830"
      },
      "outputs": [
        {
          "name": "stdout",
          "output_type": "stream",
          "text": [
            "True\n"
          ]
        }
      ],
      "source": [
        "print(torch.cuda.is_available())"
      ],
      "id": "2BceLgq-ZM0r"
    },
    {
      "cell_type": "code",
      "execution_count": null,
      "metadata": {
        "id": "5FnFodBlvOpN"
      },
      "outputs": [],
      "source": [
        "dim_val_s= 64\n",
        "dim_attn_s= 64\n",
        "\n",
        "dim_val_t = 64\n",
        "dim_attn_t = 64\n",
        "\n",
        "dim_val = 64\n",
        "dim_attn = 64\n",
        "\n",
        "time_step= 32\n",
        "input_size = 2#batch_size\n",
        "\n",
        "dec_seq_len = 4\n",
        "out_seq_len = 1\n",
        "\n",
        "n_encoder_layers = 2\n",
        "n_decoder_layers = 1\n",
        "\n",
        "dropout = 0.2\n",
        "n_heads = 4"
      ],
      "id": "5FnFodBlvOpN"
    },
    {
      "cell_type": "code",
      "execution_count": null,
      "metadata": {
        "colab": {
          "background_save": true,
          "base_uri": "https://localhost:8080/"
        },
        "id": "hIcRy12HvW66",
        "outputId": "ba12fa31-9c21-4bf0-df04-f677efaa0525"
      },
      "outputs": [
        {
          "name": "stdout",
          "output_type": "stream",
          "text": [
            "64\n"
          ]
        }
      ],
      "source": [
        "#Modelo DAST\n",
        "model_bearing = DAST(dim_val_s=dim_val_s, dim_attn_s= dim_attn_s, dim_val_t=dim_val_t, dim_attn_t=dim_attn_t,\n",
        "             dim_val = dim_val, dim_attn= dim_attn, time_step = time_step, input_size = input_size,dec_seq_len=dec_seq_len,\n",
        "             out_seq_len=out_seq_len, n_decoder_layers=n_decoder_layers, n_encoder_layers=n_encoder_layers,\n",
        "             n_heads=n_heads, dropout=dropout).to(device)\n",
        "\n",
        "optimizer = optim.Adam(model_bearing.parameters(), lr=lr)\n",
        "criterion = nn.MSELoss()\n",
        "\n",
        "losses = []\n",
        "val_losses = []\n",
        "\n",
        "loss_values = []\n",
        "val_losses = []\n",
        "\n",
        "# Training loop\n",
        "for epoch in range(n_epochs):\n",
        "    # Uses loader to fetch one mini-batch for training\n",
        "    train_loss = 0.\n",
        "    model_bearing.train()\n",
        "    for x_batch, y_batch in train_loader:\n",
        "        optimizer.zero_grad()\n",
        "        x_batch = x_batch.to('cpu')\n",
        "        y_batch = y_batch.to('cpu')\n",
        "        yhat = model_bearing(x_batch)\n",
        "\n",
        "        #loss_fn.requires_grad = True\n",
        "        loss_ = torch.sqrt(criterion(yhat,y_batch))\n",
        "        loss_.backward()\n",
        "        optimizer.step()\n",
        "\n",
        "        train_loss += loss_.item()\n",
        "\n",
        "    losses = train_loss/len(train_loader)\n",
        "    loss_values.append(losses)\n",
        "    print(f'Época [{epoch+1}/{n_epochs}], Loss: {losses:.4f}')\n",
        "\n",
        "    #Model save\n",
        "    File_Path = '..' + '\\\\' + 'DAST' + '\\\\' + 'B1' + '\\\\'\n",
        "    if not os.path.exists(File_Path):\n",
        "        os.makedirs(File_Path)\n",
        "    torch.save(model_bearing, File_Path + '/' + 'B1_DAST_prediciton_model')"
      ],
      "id": "hIcRy12HvW66"
    },
    {
      "cell_type": "markdown",
      "source": [
        "# Prueba"
      ],
      "metadata": {
        "id": "1yRB8QAESbYf"
      },
      "id": "1yRB8QAESbYf"
    },
    {
      "cell_type": "code",
      "source": [
        "testX1_4 = sio.loadmat('Xtest_new_bearing1_4.mat')  #upload sliding time window processed data\n",
        "testX1_4 = testX1_4['testX1_4_new']"
      ],
      "metadata": {
        "id": "bkm9uA6dSd9r"
      },
      "id": "bkm9uA6dSd9r",
      "execution_count": null,
      "outputs": []
    },
    {
      "cell_type": "code",
      "source": [
        "total = testX1_4.shape[0]\n",
        "ind = 2800000"
      ],
      "metadata": {
        "id": "g2fVGbEyYjCx"
      },
      "id": "g2fVGbEyYjCx",
      "execution_count": null,
      "outputs": []
    },
    {
      "cell_type": "code",
      "source": [
        "testY1_4 = sio.loadmat('Ytest_bearing1_4.mat')\n",
        "testY1_4 = testY1_4['Ytest_bearing1_4']"
      ],
      "metadata": {
        "id": "eFtnZwXLTBkg"
      },
      "id": "eFtnZwXLTBkg",
      "execution_count": null,
      "outputs": []
    },
    {
      "cell_type": "code",
      "source": [
        "testX1_4.shape"
      ],
      "metadata": {
        "colab": {
          "base_uri": "https://localhost:8080/"
        },
        "id": "4HInfHXOF-kK",
        "outputId": "817f0cc4-ab97-4c93-8644-e96bfc9d0f68"
      },
      "id": "4HInfHXOF-kK",
      "execution_count": null,
      "outputs": [
        {
          "output_type": "execute_result",
          "data": {
            "text/plain": [
              "(2918371, 32, 2)"
            ]
          },
          "metadata": {},
          "execution_count": 9
        }
      ]
    },
    {
      "cell_type": "code",
      "source": [
        "testY1_4[0][ind:total].shape"
      ],
      "metadata": {
        "colab": {
          "base_uri": "https://localhost:8080/"
        },
        "id": "yO53a9zpGCMm",
        "outputId": "521c8fca-19b3-4dfb-b873-47952114029b"
      },
      "id": "yO53a9zpGCMm",
      "execution_count": null,
      "outputs": [
        {
          "output_type": "execute_result",
          "data": {
            "text/plain": [
              "(118371,)"
            ]
          },
          "metadata": {},
          "execution_count": 10
        }
      ]
    },
    {
      "cell_type": "code",
      "source": [
        "testX1_4= testX1_4[ind:total,:,:]\n",
        "testY1_4 = testY1_4[0][ind:total]"
      ],
      "metadata": {
        "id": "6yDVWsglExQS"
      },
      "id": "6yDVWsglExQS",
      "execution_count": null,
      "outputs": []
    },
    {
      "cell_type": "code",
      "source": [
        "testX1_4.shape"
      ],
      "metadata": {
        "colab": {
          "base_uri": "https://localhost:8080/"
        },
        "id": "FICNpIoDF0er",
        "outputId": "4ad6c7fb-1348-456c-bb3a-b5fd2da75de8"
      },
      "id": "FICNpIoDF0er",
      "execution_count": null,
      "outputs": [
        {
          "output_type": "execute_result",
          "data": {
            "text/plain": [
              "(418371, 32, 2)"
            ]
          },
          "metadata": {},
          "execution_count": 13
        }
      ]
    },
    {
      "cell_type": "code",
      "source": [
        "X_test = Variable(torch.Tensor(testX1_4).float())\n",
        "Y_test = Variable(torch.Tensor(testY1_4).float())"
      ],
      "metadata": {
        "id": "4W98_au3TVx4"
      },
      "id": "4W98_au3TVx4",
      "execution_count": null,
      "outputs": []
    },
    {
      "cell_type": "code",
      "source": [
        "test_dataset = torch.utils.data.TensorDataset(X_test, Y_test)"
      ],
      "metadata": {
        "id": "bzlxD7SGTgGE"
      },
      "id": "bzlxD7SGTgGE",
      "execution_count": null,
      "outputs": []
    },
    {
      "cell_type": "code",
      "source": [
        "args={}\n",
        "kwargs={}\n",
        "\n",
        "args['batch_size'] = batch_size\n",
        "args['test_batch_size'] = batch_size\n"
      ],
      "metadata": {
        "id": "MBwbLaDEU6Pl"
      },
      "id": "MBwbLaDEU6Pl",
      "execution_count": null,
      "outputs": []
    },
    {
      "cell_type": "code",
      "source": [
        "test_loader = torch.utils.data.DataLoader(test_dataset,\n",
        "                                          batch_size = args['test_batch_size'],\n",
        "                                          shuffle=True)"
      ],
      "metadata": {
        "id": "qKrHuGCqTkTN"
      },
      "id": "qKrHuGCqTkTN",
      "execution_count": null,
      "outputs": []
    },
    {
      "cell_type": "code",
      "source": [
        "device = 'cpu' if torch.cuda.is_available() else 'cpu'\n",
        "\n",
        "n_cudas = torch.cuda.device_count()\n",
        "for i in range(n_cudas):\n",
        "    print(torch.cuda.get_device_name(i))"
      ],
      "metadata": {
        "colab": {
          "base_uri": "https://localhost:8080/"
        },
        "id": "Ae8swr8DG_f4",
        "outputId": "54aca56c-2872-40d3-b939-e8da855b465a"
      },
      "id": "Ae8swr8DG_f4",
      "execution_count": null,
      "outputs": [
        {
          "output_type": "stream",
          "name": "stdout",
          "text": [
            "Tesla T4\n"
          ]
        }
      ]
    },
    {
      "cell_type": "code",
      "source": [
        "#Modelo DAST\n",
        "model_bearing = DAST(dim_val_s=dim_val_s, dim_attn_s= dim_attn_s, dim_val_t=dim_val_t, dim_attn_t=dim_attn_t,\n",
        "             dim_val = dim_val, dim_attn= dim_attn, time_step = time_step, input_size = input_size,dec_seq_len=dec_seq_len,\n",
        "             out_seq_len=out_seq_len, n_decoder_layers=n_decoder_layers, n_encoder_layers=n_encoder_layers,\n",
        "             n_heads=n_heads, dropout=dropout).to(device)"
      ],
      "metadata": {
        "colab": {
          "base_uri": "https://localhost:8080/"
        },
        "id": "VLDvrT3hQ7Zj",
        "outputId": "da7aeb87-9c36-4ce1-b9b8-8ce3374a08c5"
      },
      "id": "VLDvrT3hQ7Zj",
      "execution_count": null,
      "outputs": [
        {
          "output_type": "stream",
          "name": "stdout",
          "text": [
            "64\n"
          ]
        }
      ]
    },
    {
      "cell_type": "code",
      "source": [
        "model_bearing = torch.load('B1_DAST_prediciton_model')"
      ],
      "metadata": {
        "id": "2NulyE9bQsSF"
      },
      "id": "2NulyE9bQsSF",
      "execution_count": null,
      "outputs": []
    },
    {
      "cell_type": "code",
      "source": [
        "Y_test_numpy = Y_test.detach().numpy()\n",
        "test_list = []\n",
        "\n",
        "for k ,(batch_x,batch_y) in enumerate(test_loader):\n",
        "    prediction = model_bearing(batch_x.to(device)).to(device)\n",
        "    prediction[prediction<0] = 0\n",
        "    test_list.append(prediction)\n",
        "\n",
        "test_all =  torch.cat(test_list).detach().numpy()\n",
        "test_all_tensor = torch.from_numpy(test_all)\n",
        "test_loss = torch.sqrt(criterion(test_all_tensor*125, Y_test*125))\n",
        "test_score = myScore(Y_test_numpy*125, test_all*125)\n",
        "print('test_loss = ', test_loss.item(),\n",
        "          'test_score = ', test_score)"
      ],
      "metadata": {
        "id": "vT4A5c-lUAKG"
      },
      "id": "vT4A5c-lUAKG",
      "execution_count": null,
      "outputs": []
    },
    {
      "cell_type": "code",
      "source": [
        "model_bearing = torch.load('B1_DAST_prediciton_model')\n",
        "Y_test_numpy = Y_test.detach().numpy()\n",
        "test_list = []\n",
        "\n",
        "for k ,(batch_x,batch_y) in enumerate(test_loader):\n",
        "    prediction = model_bearing(batch_x)\n",
        "    prediction[prediction<0] = 0\n",
        "    test_list.append(prediction)\n",
        "    #test_loss = torch.sqrt(criterion(prediction*125, batch_y*125))\n",
        "    #prediction_numpy = prediction.detach().numpy()\n",
        "    #batch_y_numpy = batch_y.detach().numpy()\n",
        "    #test_score = myScore(batch_y_numpy*125, prediction_numpy*125)\n",
        "\n",
        "test_all =  torch.cat(test_list).detach().numpy()\n",
        "test_all_tensor = torch.from_numpy(test_all)\n",
        "test_loss = torch.sqrt(criterion(test_all_tensor*125, Y_test*125))\n",
        "test_score = myScore(Y_test_numpy*125, test_all*125)\n",
        "print('test_loss = ', test_loss.item(),\n",
        "          'test_score = ', test_score)"
      ],
      "metadata": {
        "id": "C5Z9GPnHTp_p"
      },
      "id": "C5Z9GPnHTp_p",
      "execution_count": null,
      "outputs": []
    }
  ],
  "metadata": {
    "colab": {
      "machine_shape": "hm",
      "toc_visible": true,
      "provenance": []
    },
    "kernelspec": {
      "display_name": "Python 3",
      "name": "python3"
    },
    "language_info": {
      "codemirror_mode": {
        "name": "ipython",
        "version": 3
      },
      "file_extension": ".py",
      "mimetype": "text/x-python",
      "name": "python",
      "nbconvert_exporter": "python",
      "pygments_lexer": "ipython3",
      "version": "3.10.9"
    }
  },
  "nbformat": 4,
  "nbformat_minor": 5
}